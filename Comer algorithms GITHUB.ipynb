{
 "cells": [
  {
   "cell_type": "code",
   "execution_count": 12,
   "metadata": {},
   "outputs": [],
   "source": [
    "import numpy as np\n",
    "                \n",
    "def comer_symmetric(p,m,g):\n",
    "    assert (p-1) % 2*m == 0\n",
    "    X0 = np.array( [pow(g, i, p) for i in xrange(0, p-m, m) ] )\n",
    "    certificates_master = np.array([ pow(g, i, p) for i in xrange(m) ])\n",
    "    C_minus_X0 = ( ( certificates_master[:, np.newaxis] - X0 ) % p )\n",
    "    C_minus_X0_sets = [ set(L) for L in C_minus_X0 ]\n",
    "    Xs = [{pow(g, x+i, p) for x in xrange(0, p-m, m)} for i in xrange(m)]\n",
    "    forb_cycles = []\n",
    "    for i in xrange(m):\n",
    "        for j in xrange(i,m):\n",
    "            if not bool(Xs[i].intersection(C_minus_X0_sets[j])):\n",
    "                forb_cycles.append((0,i,j))\n",
    "    return forb_cycles\n",
    "\n",
    "def comer_asymmetric(p,n,g):\n",
    "    assert n%2 == 0\n",
    "    assert int((p-1) / n) % 2 == 1\n",
    "    m = int(n / 2)\n",
    "    X0 = np.array( [pow(g, i, p) for i in range(0, p-n, n) ] )\n",
    "    certificates_master = np.array([ pow(g, i, p) for i in range(n) ])\n",
    "    C_minus_X0 = ( ( certificates_master[:, np.newaxis] - X0 ) % p )\n",
    "    C_minus_X0_sets = [ set(L) for L in C_minus_X0 ]\n",
    "    Xs = [{pow(g, x+i, p) for x in range(0, p-n, n)} for i in range(n)]\n",
    "    forb_cycles = []\n",
    "    for i in range(m):\n",
    "        for j in range(i+m,n+m):\n",
    "            if not bool(Xs[i].intersection(C_minus_X0_sets[j%n])):\n",
    "                forb_cycles.append((0,i,j%n))\n",
    "    return sorted(forb_cycles)\n",
    "    \n"
   ]
  }
 ],
 "metadata": {
  "kernelspec": {
   "display_name": "Python 3",
   "language": "python",
   "name": "python3"
  },
  "language_info": {
   "codemirror_mode": {
    "name": "ipython",
    "version": 3
   },
   "file_extension": ".py",
   "mimetype": "text/x-python",
   "name": "python",
   "nbconvert_exporter": "python",
   "pygments_lexer": "ipython3",
   "version": "3.6.5"
  }
 },
 "nbformat": 4,
 "nbformat_minor": 1
}
